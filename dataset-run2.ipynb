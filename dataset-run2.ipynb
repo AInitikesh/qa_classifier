{
 "cells": [
  {
   "cell_type": "code",
   "execution_count": 1,
   "metadata": {},
   "outputs": [],
   "source": [
    "import pandas as pd\n",
    "import json\n",
    "import random\n",
    "from sklearn.utils import shuffle\n",
    "from bs4 import BeautifulSoup"
   ]
  },
  {
   "cell_type": "code",
   "execution_count": 2,
   "metadata": {},
   "outputs": [],
   "source": [
    "train_df = pd.read_json('TweetQA_data/train.json')\n",
    "test_df = pd.read_json('TweetQA_data/test.json')\n",
    "dev_df = pd.read_json('TweetQA_data/dev.json')"
   ]
  },
  {
   "cell_type": "code",
   "execution_count": 3,
   "metadata": {},
   "outputs": [],
   "source": [
    "complete_tweetqa_df = train_df.append(test_df).append(dev_df)"
   ]
  },
  {
   "cell_type": "code",
   "execution_count": 4,
   "metadata": {},
   "outputs": [],
   "source": [
    "squad_json = None\n",
    "with open('SQUAD.json') as f:\n",
    "    squad_json = json.loads(f.read())"
   ]
  },
  {
   "cell_type": "code",
   "execution_count": 5,
   "metadata": {},
   "outputs": [],
   "source": [
    "quac_json = None\n",
    "with open('QUAC.json') as f:\n",
    "    quac_json = json.loads(f.read())"
   ]
  },
  {
   "cell_type": "code",
   "execution_count": 6,
   "metadata": {},
   "outputs": [],
   "source": [
    "output_df = {'label': [], 'text': []}"
   ]
  },
  {
   "cell_type": "code",
   "execution_count": 7,
   "metadata": {},
   "outputs": [],
   "source": [
    "for i in quac_json['data']:\n",
    "    for j in i['paragraphs']:\n",
    "        for k in j['qas']:\n",
    "            output_df['label'].append(0)\n",
    "            output_df['text'].append(k['question'])\n",
    "            if 'orig_answer' in k:\n",
    "                output_df['label'].append(1)\n",
    "                output_df['text'].append(k['orig_answer']['text'])\n",
    "                if random.choice([True, False]):\n",
    "                    output_df['label'].append(0)\n",
    "                    if random.choice([True, False]):\n",
    "                        output_df['text'].append(k['orig_answer']['text'] + \" \" + k['question'])\n",
    "                    else:\n",
    "                        output_df['text'].append(k['question']  + \" \" +  k['orig_answer']['text'])"
   ]
  },
  {
   "cell_type": "code",
   "execution_count": 8,
   "metadata": {},
   "outputs": [
    {
     "data": {
      "text/plain": [
       "208968"
      ]
     },
     "execution_count": 8,
     "metadata": {},
     "output_type": "execute_result"
    }
   ],
   "source": [
    "len(output_df['label'])"
   ]
  },
  {
   "cell_type": "code",
   "execution_count": 9,
   "metadata": {},
   "outputs": [],
   "source": [
    "for i in squad_json['data']:\n",
    "    for j in i['paragraphs']:\n",
    "        for k in j['qas']:\n",
    "            output_df['label'].append(0)\n",
    "            output_df['text'].append(k['question'])\n",
    "            if len(k['answers']) > 0:\n",
    "                output_df['label'].append(1)\n",
    "                output_df['text'].append(k['answers'][0]['text'])\n",
    "                if random.choice([True, False]):\n",
    "                    output_df['label'].append(0)\n",
    "                    if random.choice([True, False]):\n",
    "                        output_df['text'].append(k['answers'][0]['text'] + \" \" + k['question'])\n",
    "                    else:\n",
    "                        output_df['text'].append(k['question']  + \" \" +  k['answers'][0]['text'])"
   ]
  },
  {
   "cell_type": "code",
   "execution_count": 10,
   "metadata": {},
   "outputs": [
    {
     "data": {
      "text/plain": [
       "469284"
      ]
     },
     "execution_count": 10,
     "metadata": {},
     "output_type": "execute_result"
    }
   ],
   "source": [
    "len(output_df['label'])"
   ]
  },
  {
   "cell_type": "code",
   "execution_count": 11,
   "metadata": {},
   "outputs": [],
   "source": [
    "for i, row in complete_tweetqa_df.iterrows():\n",
    "    output_df['label'].append(0)\n",
    "    output_df['text'].append(str(row['Question']))\n",
    "    if type(row['Answer']) == list:\n",
    "        output_df['label'].append(1)\n",
    "        output_df['text'].append(str(row['Answer'][0]))\n",
    "    else:\n",
    "        output_df['label'].append(1)\n",
    "        output_df['text'].append(str(row['Answer']))\n",
    "#     output_df['label'].append(1)\n",
    "#     output_df['text'].append(str(row['Tweet']))"
   ]
  },
  {
   "cell_type": "code",
   "execution_count": 36,
   "metadata": {},
   "outputs": [
    {
     "data": {
      "text/plain": [
       "411790"
      ]
     },
     "execution_count": 36,
     "metadata": {},
     "output_type": "execute_result"
    }
   ],
   "source": [
    "len(output_df['label'])"
   ]
  },
  {
   "cell_type": "code",
   "execution_count": 12,
   "metadata": {},
   "outputs": [],
   "source": [
    "output_df_df = pd.DataFrame(output_df)\n",
    "output_df_df = shuffle(output_df_df)"
   ]
  },
  {
   "cell_type": "code",
   "execution_count": 13,
   "metadata": {},
   "outputs": [
    {
     "name": "stdout",
     "output_type": "stream",
     "text": [
      "312652\n",
      "184146\n"
     ]
    }
   ],
   "source": [
    "print(len(output_df_df[output_df_df.label == 0]))\n",
    "print(len(output_df_df[output_df_df.label == 1]))"
   ]
  },
  {
   "cell_type": "code",
   "execution_count": 14,
   "metadata": {},
   "outputs": [],
   "source": [
    "output_df_df.to_csv('training_dataset_1.csv', index=False)"
   ]
  },
  {
   "cell_type": "code",
   "execution_count": null,
   "metadata": {},
   "outputs": [],
   "source": []
  }
 ],
 "metadata": {
  "kernelspec": {
   "display_name": "Python (torchtext-latest)",
   "language": "python",
   "name": "torchtext-latest"
  },
  "language_info": {
   "codemirror_mode": {
    "name": "ipython",
    "version": 3
   },
   "file_extension": ".py",
   "mimetype": "text/x-python",
   "name": "python",
   "nbconvert_exporter": "python",
   "pygments_lexer": "ipython3",
   "version": "3.8.8"
  }
 },
 "nbformat": 4,
 "nbformat_minor": 4
}
